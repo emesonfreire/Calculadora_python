{
 "cells": [
  {
   "cell_type": "code",
   "execution_count": null,
   "id": "08bf6519",
   "metadata": {},
   "outputs": [],
   "source": [
    "# Calculadora em Python\n",
    "\n",
    "# Desenvolva uma calculadora em Python com tudo que você aprendeu nos capítulos até aqui no curso. \n",
    "# A solução será apresentada no próximo capítulo!\n",
    "\n",
    "\n",
    "\n"
   ]
  },
  {
   "cell_type": "code",
   "execution_count": 28,
   "id": "39c0af08",
   "metadata": {},
   "outputs": [
    {
     "name": "stdout",
     "output_type": "stream",
     "text": [
      "\n",
      "******************* Calculadora em Python  *******************\n",
      "Escolha uma das opções: \n",
      " +\n",
      " -\n",
      " *\n",
      " /\n",
      "+\n",
      "digite 1° valor : 1\n",
      "digite 2° valor : 2\n",
      "\n",
      "\n",
      "o resultado dessa operação foi : 3.0\n"
     ]
    }
   ],
   "source": [
    "print(\"\\n******************* Calculadora em Python  *******************\")\n",
    "\n",
    "#entrada da escolha da operação\n",
    "operacao = input(\"Escolha uma das opções: \\n +\\n -\\n *\\n /\\n\")\n",
    "\n",
    "if operacao == \"+\" or operacao == \"-\" or operacao == \"*\" or operacao == \"/\":\n",
    "    #entrada de valores\n",
    "    nume1 = float(input(\"digite 1° valor : \"))\n",
    "    nume2 = float(input(\"digite 2° valor : \"))\n",
    "    \n",
    "    #operações\n",
    "    soma = nume1 + nume2\n",
    "    sub = nume1 - nume2\n",
    "    div = nume1 / nume2\n",
    "    mult = nume1 * nume2\n",
    "    resultado = 0\n",
    "    if operacao == \"+\":\n",
    "        resultado = soma\n",
    "        print(\"\\n\\no resultado dessa operação foi : %s\" %(resultado))\n",
    "    elif operacao == \"-\":\n",
    "        resultado = sub\n",
    "        print(\"\\n\\no resultado dessa operação foi : %s\" %(resultado))\n",
    "    elif operacao == \"/\":\n",
    "        resultado = div\n",
    "        print(\"\\n\\no resultado dessa operação foi : %s\" %(resultado))\n",
    "    elif operacao == \"*\":\n",
    "        resultado = mult\n",
    "        print(\"\\n\\no resultado dessa operação foi : %s\" %(resultado))\n",
    "\n",
    "else:\n",
    "    print(\"\\n você precisa escolher uma das opções acima para prosseguir com a operação!! por favor reinicie a calculadora\"  )\n"
   ]
  },
  {
   "cell_type": "code",
   "execution_count": null,
   "id": "cc3aa91b",
   "metadata": {},
   "outputs": [],
   "source": []
  }
 ],
 "metadata": {
  "kernelspec": {
   "display_name": "Python 3 (ipykernel)",
   "language": "python",
   "name": "python3"
  },
  "language_info": {
   "codemirror_mode": {
    "name": "ipython",
    "version": 3
   },
   "file_extension": ".py",
   "mimetype": "text/x-python",
   "name": "python",
   "nbconvert_exporter": "python",
   "pygments_lexer": "ipython3",
   "version": "3.10.0"
  }
 },
 "nbformat": 4,
 "nbformat_minor": 5
}
